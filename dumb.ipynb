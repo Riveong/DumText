{
 "cells": [
  {
   "cell_type": "markdown",
   "id": "b7a952d7",
   "metadata": {
    "papermill": {
     "duration": 0.003687,
     "end_time": "2024-12-04T04:22:16.026022",
     "exception": false,
     "start_time": "2024-12-04T04:22:16.022335",
     "status": "completed"
    },
    "tags": []
   },
   "source": [
    "# Stupid word generation with markov chains"
   ]
  },
  {
   "cell_type": "markdown",
   "id": "3d2cf333",
   "metadata": {
    "papermill": {
     "duration": 0.002678,
     "end_time": "2024-12-04T04:22:16.031797",
     "exception": false,
     "start_time": "2024-12-04T04:22:16.029119",
     "status": "completed"
    },
    "tags": []
   },
   "source": [
    "**WHY?**\n",
    "Because I can and most of LLMs are not funny enough"
   ]
  },
  {
   "cell_type": "code",
   "execution_count": 1,
   "id": "e7b90fcd",
   "metadata": {
    "_cell_guid": "b1076dfc-b9ad-4769-8c92-a6c4dae69d19",
    "_uuid": "8f2839f25d086af736a60e9eeb907d3b93b6e0e5",
    "execution": {
     "iopub.execute_input": "2024-12-04T04:22:16.039229Z",
     "iopub.status.busy": "2024-12-04T04:22:16.038791Z",
     "iopub.status.idle": "2024-12-04T04:22:16.057649Z",
     "shell.execute_reply": "2024-12-04T04:22:16.056379Z"
    },
    "papermill": {
     "duration": 0.025591,
     "end_time": "2024-12-04T04:22:16.060143",
     "exception": false,
     "start_time": "2024-12-04T04:22:16.034552",
     "status": "completed"
    },
    "tags": []
   },
   "outputs": [
    {
     "name": "stdout",
     "output_type": "stream",
     "text": [
      "/kaggle/input/short-jokes/shortjokes.csv\n"
     ]
    }
   ],
   "source": [
    "import os\n",
    "for dirname, _, filenames in os.walk('/kaggle/input'):\n",
    "    for filename in filenames:\n",
    "        print(os.path.join(dirname, filename))"
   ]
  },
  {
   "cell_type": "code",
   "execution_count": 2,
   "id": "c57bbc6a",
   "metadata": {
    "execution": {
     "iopub.execute_input": "2024-12-04T04:22:16.067958Z",
     "iopub.status.busy": "2024-12-04T04:22:16.067496Z",
     "iopub.status.idle": "2024-12-04T04:22:41.394538Z",
     "shell.execute_reply": "2024-12-04T04:22:41.393240Z"
    },
    "papermill": {
     "duration": 25.333814,
     "end_time": "2024-12-04T04:22:41.397126",
     "exception": false,
     "start_time": "2024-12-04T04:22:16.063312",
     "status": "completed"
    },
    "tags": []
   },
   "outputs": [
    {
     "name": "stdout",
     "output_type": "stream",
     "text": [
      "Requirement already satisfied: nltk in /opt/conda/lib/python3.10/site-packages (3.2.4)\r\n",
      "Requirement already satisfied: six in /opt/conda/lib/python3.10/site-packages (from nltk) (1.16.0)\r\n",
      "Collecting markovify\r\n",
      "  Downloading markovify-0.9.4.tar.gz (27 kB)\r\n",
      "  Preparing metadata (setup.py) ... \u001b[?25l-\b \bdone\r\n",
      "\u001b[?25hCollecting unidecode (from markovify)\r\n",
      "  Downloading Unidecode-1.3.8-py3-none-any.whl.metadata (13 kB)\r\n",
      "Downloading Unidecode-1.3.8-py3-none-any.whl (235 kB)\r\n",
      "\u001b[2K   \u001b[90m━━━━━━━━━━━━━━━━━━━━━━━━━━━━━━━━━━━━━━━━\u001b[0m \u001b[32m235.5/235.5 kB\u001b[0m \u001b[31m6.1 MB/s\u001b[0m eta \u001b[36m0:00:00\u001b[0m\r\n",
      "\u001b[?25hBuilding wheels for collected packages: markovify\r\n",
      "  Building wheel for markovify (setup.py) ... \u001b[?25l-\b \b\\\b \bdone\r\n",
      "\u001b[?25h  Created wheel for markovify: filename=markovify-0.9.4-py3-none-any.whl size=18608 sha256=4cffedffc1f85d017f69a604f4912f53dcf89caf42a43a295be89faa437995c1\r\n",
      "  Stored in directory: /root/.cache/pip/wheels/ca/8c/c5/41413e24c484f883a100c63ca7b3b0362b7c6f6eb6d7c9cc7f\r\n",
      "Successfully built markovify\r\n",
      "Installing collected packages: unidecode, markovify\r\n",
      "Successfully installed markovify-0.9.4 unidecode-1.3.8\r\n"
     ]
    }
   ],
   "source": [
    "!pip install nltk\n",
    "!pip install markovify"
   ]
  },
  {
   "cell_type": "code",
   "execution_count": 3,
   "id": "925116bf",
   "metadata": {
    "execution": {
     "iopub.execute_input": "2024-12-04T04:22:41.407019Z",
     "iopub.status.busy": "2024-12-04T04:22:41.406443Z",
     "iopub.status.idle": "2024-12-04T04:22:44.874713Z",
     "shell.execute_reply": "2024-12-04T04:22:44.873158Z"
    },
    "papermill": {
     "duration": 3.476139,
     "end_time": "2024-12-04T04:22:44.877252",
     "exception": false,
     "start_time": "2024-12-04T04:22:41.401113",
     "status": "completed"
    },
    "tags": []
   },
   "outputs": [],
   "source": [
    "import pandas as pd\n",
    "import numpy as np\n",
    "import nltk\n",
    "import random\n",
    "import markovify\n",
    "from nltk import bigrams, trigrams\n",
    "from nltk.corpus import stopwords\n",
    "from nltk.tokenize import word_tokenize\n",
    "from collections import defaultdict, Counter"
   ]
  },
  {
   "cell_type": "code",
   "execution_count": 4,
   "id": "ae27df55",
   "metadata": {
    "execution": {
     "iopub.execute_input": "2024-12-04T04:22:44.886725Z",
     "iopub.status.busy": "2024-12-04T04:22:44.886193Z",
     "iopub.status.idle": "2024-12-04T04:22:45.046642Z",
     "shell.execute_reply": "2024-12-04T04:22:45.045439Z"
    },
    "papermill": {
     "duration": 0.16757,
     "end_time": "2024-12-04T04:22:45.048797",
     "exception": false,
     "start_time": "2024-12-04T04:22:44.881227",
     "status": "completed"
    },
    "tags": []
   },
   "outputs": [
    {
     "name": "stdout",
     "output_type": "stream",
     "text": [
      "[nltk_data] Downloading package punkt to /usr/share/nltk_data...\n",
      "[nltk_data]   Package punkt is already up-to-date!\n"
     ]
    },
    {
     "data": {
      "text/plain": [
       "True"
      ]
     },
     "execution_count": 4,
     "metadata": {},
     "output_type": "execute_result"
    }
   ],
   "source": [
    "nltk.download('punkt')"
   ]
  },
  {
   "cell_type": "code",
   "execution_count": 5,
   "id": "50ad2792",
   "metadata": {
    "execution": {
     "iopub.execute_input": "2024-12-04T04:22:45.058538Z",
     "iopub.status.busy": "2024-12-04T04:22:45.058122Z",
     "iopub.status.idle": "2024-12-04T04:23:35.559129Z",
     "shell.execute_reply": "2024-12-04T04:23:35.557947Z"
    },
    "papermill": {
     "duration": 50.509091,
     "end_time": "2024-12-04T04:23:35.561837",
     "exception": false,
     "start_time": "2024-12-04T04:22:45.052746",
     "status": "completed"
    },
    "tags": []
   },
   "outputs": [],
   "source": [
    "df = pd.read_csv('/kaggle/input/short-jokes/shortjokes.csv')\n",
    "tokenized_jokes = [nltk.word_tokenize(jokes.lower()) for jokes in df['Joke']]"
   ]
  },
  {
   "cell_type": "code",
   "execution_count": 6,
   "id": "d1b362c7",
   "metadata": {
    "execution": {
     "iopub.execute_input": "2024-12-04T04:23:35.572875Z",
     "iopub.status.busy": "2024-12-04T04:23:35.572487Z",
     "iopub.status.idle": "2024-12-04T04:23:49.239459Z",
     "shell.execute_reply": "2024-12-04T04:23:49.238323Z"
    },
    "papermill": {
     "duration": 13.676043,
     "end_time": "2024-12-04T04:23:49.242090",
     "exception": false,
     "start_time": "2024-12-04T04:23:35.566047",
     "status": "completed"
    },
    "tags": []
   },
   "outputs": [],
   "source": [
    "text_data = ' '.join(df['Joke'].dropna())\n",
    "markov_model = markovify.Text(text_data)"
   ]
  },
  {
   "cell_type": "code",
   "execution_count": 7,
   "id": "830503e7",
   "metadata": {
    "execution": {
     "iopub.execute_input": "2024-12-04T04:23:49.251719Z",
     "iopub.status.busy": "2024-12-04T04:23:49.251329Z",
     "iopub.status.idle": "2024-12-04T04:23:49.261556Z",
     "shell.execute_reply": "2024-12-04T04:23:49.260638Z"
    },
    "papermill": {
     "duration": 0.017526,
     "end_time": "2024-12-04T04:23:49.263664",
     "exception": false,
     "start_time": "2024-12-04T04:23:49.246138",
     "status": "completed"
    },
    "tags": []
   },
   "outputs": [],
   "source": [
    "def generate_joke_from_prompt(prompt, model, length=100):\n",
    "    prompt_tokens = word_tokenize(prompt.lower())\n",
    "    start_word = prompt_tokens[0]\n",
    "    try:\n",
    "        joke = model.make_sentence_with_start(start_word, max_overlap_ratio=0.75, tries=100)\n",
    "    except KeyError:\n",
    "        joke = None\n",
    "    if not joke:\n",
    "        print(f\"Prompt '{start_word}' not found. Generating a random joke instead.\")\n",
    "        joke = model.make_sentence(max_overlap_ratio=0.75, tries=100)\n",
    "    joke = joke.capitalize() if joke else \"ARGGGHHH THE VOICES INSIDE MY HEAD IS TOO STRONG SHUT UPPP\"\n",
    "    joke_words = joke.split()\n",
    "    if len(joke_words) < length:\n",
    "        while len(joke_words) < length:\n",
    "            next_word = model.make_sentence(max_overlap_ratio=0.75, tries=100).split()[0]  # Take first word from random sentence\n",
    "            joke_words.append(next_word)\n",
    "    elif len(joke_words) > length:\n",
    "        joke_words = joke_words[:length]\n",
    "    joke = ' '.join(joke_words)\n",
    "    \n",
    "    return f\"Did somebody said {prompt}? that reminds me of \" + joke"
   ]
  },
  {
   "cell_type": "code",
   "execution_count": 8,
   "id": "0505031c",
   "metadata": {
    "execution": {
     "iopub.execute_input": "2024-12-04T04:23:49.273598Z",
     "iopub.status.busy": "2024-12-04T04:23:49.273168Z",
     "iopub.status.idle": "2024-12-04T04:23:51.944260Z",
     "shell.execute_reply": "2024-12-04T04:23:51.942877Z"
    },
    "papermill": {
     "duration": 2.678761,
     "end_time": "2024-12-04T04:23:51.946550",
     "exception": false,
     "start_time": "2024-12-04T04:23:49.267789",
     "status": "completed"
    },
    "tags": []
   },
   "outputs": [
    {
     "name": "stdout",
     "output_type": "stream",
     "text": [
      "Did somebody said Why? that reminds me of Why would you kill a 1 in 3 years. YOU A I I A I I A .. I Why The It's How A Everytime ...would 17038 What A: Guardians In What One Because Who Rent WHAT Have Others A Not I'm I FRAAAAAAPPPBLAPPPPLAAAAAAAPBRENKKKKKKKKKK!!! If What After What Reasons I Soak Because Imagine Because It Does Probably Cause Why I Maybe Sitting What ...now Words A There There Because Which I've Tilda Everyone I'm A In Rough If What Because A: Floyd Glamurai Pretty What My The Me: Their They When I Turns Reddit, A ...because Everyone Because D. Thou\n"
     ]
    }
   ],
   "source": [
    "# Example usage\n",
    "user_prompt = \"Why\"\n",
    "generated_joke = generate_joke_from_prompt(user_prompt, markov_model)\n",
    "print(generated_joke)"
   ]
  },
  {
   "cell_type": "code",
   "execution_count": 9,
   "id": "4f7443e5",
   "metadata": {
    "execution": {
     "iopub.execute_input": "2024-12-04T04:23:51.956727Z",
     "iopub.status.busy": "2024-12-04T04:23:51.956344Z",
     "iopub.status.idle": "2024-12-04T04:23:51.961075Z",
     "shell.execute_reply": "2024-12-04T04:23:51.960006Z"
    },
    "papermill": {
     "duration": 0.012298,
     "end_time": "2024-12-04T04:23:51.963095",
     "exception": false,
     "start_time": "2024-12-04T04:23:51.950797",
     "status": "completed"
    },
    "tags": []
   },
   "outputs": [],
   "source": [
    "import pickle\n",
    "\n",
    "model_path = \"markov_model.pkl\""
   ]
  }
 ],
 "metadata": {
  "kaggle": {
   "accelerator": "none",
   "dataSources": [
    {
     "datasetId": 781,
     "sourceId": 1457,
     "sourceType": "datasetVersion"
    }
   ],
   "dockerImageVersionId": 30804,
   "isGpuEnabled": false,
   "isInternetEnabled": true,
   "language": "python",
   "sourceType": "notebook"
  },
  "kernelspec": {
   "display_name": "Python 3",
   "language": "python",
   "name": "python3"
  },
  "language_info": {
   "codemirror_mode": {
    "name": "ipython",
    "version": 3
   },
   "file_extension": ".py",
   "mimetype": "text/x-python",
   "name": "python",
   "nbconvert_exporter": "python",
   "pygments_lexer": "ipython3",
   "version": "3.10.14"
  },
  "papermill": {
   "default_parameters": {},
   "duration": 100.632838,
   "end_time": "2024-12-04T04:23:53.794236",
   "environment_variables": {},
   "exception": null,
   "input_path": "__notebook__.ipynb",
   "output_path": "__notebook__.ipynb",
   "parameters": {},
   "start_time": "2024-12-04T04:22:13.161398",
   "version": "2.6.0"
  }
 },
 "nbformat": 4,
 "nbformat_minor": 5
}
